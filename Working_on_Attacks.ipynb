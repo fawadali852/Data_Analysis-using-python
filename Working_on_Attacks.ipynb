{
 "cells": [
  {
   "cell_type": "code",
   "execution_count": null,
   "id": "d7d3a82b",
   "metadata": {},
   "outputs": [],
   "source": [
    "import pandas as pd "
   ]
  },
  {
   "cell_type": "code",
   "execution_count": null,
   "id": "b7f28555",
   "metadata": {},
   "outputs": [],
   "source": [
    "test=pd.read_csv('Train_Test_Network.csv')"
   ]
  },
  {
   "cell_type": "code",
   "execution_count": null,
   "id": "97f3684a",
   "metadata": {},
   "outputs": [],
   "source": [
    "test"
   ]
  },
  {
   "cell_type": "code",
   "execution_count": null,
   "id": "405ad463",
   "metadata": {},
   "outputs": [],
   "source": [
    "test.src_ip.unique() #Unique src ip addresses of 0's and 1's label"
   ]
  },
  {
   "cell_type": "code",
   "execution_count": null,
   "id": "9859c248",
   "metadata": {},
   "outputs": [],
   "source": [
    "test.dst_ip.unique()  #Unique destination ip addresses of 0's and 1's label"
   ]
  },
  {
   "cell_type": "markdown",
   "id": "e3beda2b",
   "metadata": {},
   "source": [
    "# Types of attacks"
   ]
  },
  {
   "cell_type": "code",
   "execution_count": null,
   "id": "66b465e2",
   "metadata": {},
   "outputs": [],
   "source": [
    "type_intrusion= test.type"
   ]
  },
  {
   "cell_type": "code",
   "execution_count": null,
   "id": "2fa5fc98",
   "metadata": {},
   "outputs": [],
   "source": [
    "type_intrusion # All Types of intrusion"
   ]
  },
  {
   "cell_type": "code",
   "execution_count": null,
   "id": "6aa35d69",
   "metadata": {},
   "outputs": [],
   "source": [
    "type_intrusion.unique() #Unique type of intrusion"
   ]
  },
  {
   "cell_type": "markdown",
   "id": "d2f39d1d",
   "metadata": {},
   "source": [
    "# DOS type attack"
   ]
  },
  {
   "cell_type": "code",
   "execution_count": null,
   "id": "a9ac9594",
   "metadata": {},
   "outputs": [],
   "source": [
    "test_dos=test[test.type=='dos'] #DOS type attack data\n",
    "print(test_dos)"
   ]
  },
  {
   "cell_type": "code",
   "execution_count": null,
   "id": "d7f7561a",
   "metadata": {},
   "outputs": [],
   "source": [
    "test_dos.src_ip.unique() #DOS attack src unique ips"
   ]
  },
  {
   "cell_type": "code",
   "execution_count": null,
   "id": "94a94cce",
   "metadata": {},
   "outputs": [],
   "source": [
    "test_dos.dst_ip.unique() #DOS attack dest unique ips"
   ]
  },
  {
   "cell_type": "markdown",
   "id": "6f709101",
   "metadata": {},
   "source": [
    "# Injection type attack"
   ]
  },
  {
   "cell_type": "code",
   "execution_count": null,
   "id": "dabe2dfe",
   "metadata": {},
   "outputs": [],
   "source": [
    "test_injection=test[test.type=='injection'] #injection tyoe attack\n",
    "print(test_injection)"
   ]
  },
  {
   "cell_type": "code",
   "execution_count": null,
   "id": "ee59d07d",
   "metadata": {},
   "outputs": [],
   "source": [
    "test_injection.src_ip.unique() #attackers unique src ip"
   ]
  },
  {
   "cell_type": "code",
   "execution_count": null,
   "id": "4a0588c4",
   "metadata": {},
   "outputs": [],
   "source": [
    "test_injection.dst_ip.unique() #attacked unique destination ip"
   ]
  },
  {
   "cell_type": "markdown",
   "id": "798ef005",
   "metadata": {},
   "source": [
    "# DDOS type attack"
   ]
  },
  {
   "cell_type": "code",
   "execution_count": null,
   "id": "7a039b18",
   "metadata": {},
   "outputs": [],
   "source": [
    "test_ddos=test[test.type=='ddos'] #DDOS type attack\n",
    "print(test_ddos)"
   ]
  },
  {
   "cell_type": "code",
   "execution_count": null,
   "id": "04d4efda",
   "metadata": {},
   "outputs": [],
   "source": [
    "test_ddos.src_ip.unique() #DDOS attack src unique ips"
   ]
  },
  {
   "cell_type": "code",
   "execution_count": null,
   "id": "1b0a3a54",
   "metadata": {},
   "outputs": [],
   "source": [
    "test_ddos.dst_ip.unique() #DDOS attack dest unique ips"
   ]
  },
  {
   "cell_type": "markdown",
   "id": "6e1048ec",
   "metadata": {},
   "source": [
    "# scanning type attack"
   ]
  },
  {
   "cell_type": "code",
   "execution_count": null,
   "id": "bb2da011",
   "metadata": {},
   "outputs": [],
   "source": [
    "test_scanning=test[test.type=='scanning'] #scanning type attack data\n",
    "print(test_scanning)"
   ]
  },
  {
   "cell_type": "code",
   "execution_count": null,
   "id": "4919061f",
   "metadata": {},
   "outputs": [],
   "source": [
    "test_scanning.src_ip.unique() #scanning attack src unique ips"
   ]
  },
  {
   "cell_type": "code",
   "execution_count": null,
   "id": "bcf8dc02",
   "metadata": {},
   "outputs": [],
   "source": [
    "test_scanning.dst_ip.unique() #scanning attack dest unique ips"
   ]
  },
  {
   "cell_type": "markdown",
   "id": "73203194",
   "metadata": {},
   "source": [
    "# mitm type attack"
   ]
  },
  {
   "cell_type": "code",
   "execution_count": null,
   "id": "cf06392e",
   "metadata": {},
   "outputs": [],
   "source": [
    "test_mitm=test[test.type=='mitm'] #mitm type attack data\n",
    "print(test_mitm)"
   ]
  },
  {
   "cell_type": "code",
   "execution_count": null,
   "id": "5a3e15fb",
   "metadata": {},
   "outputs": [],
   "source": [
    "test_mitm.src_ip.unique() #mitm attack src unique ips"
   ]
  },
  {
   "cell_type": "code",
   "execution_count": null,
   "id": "a27b5444",
   "metadata": {},
   "outputs": [],
   "source": [
    "test_mitm.dst_ip.unique() #mitm attack dest unique ips"
   ]
  },
  {
   "cell_type": "markdown",
   "id": "af333735",
   "metadata": {},
   "source": [
    "# backdoor type attack"
   ]
  },
  {
   "cell_type": "code",
   "execution_count": null,
   "id": "1da5a5ff",
   "metadata": {},
   "outputs": [],
   "source": [
    "test_backdoor=test[test.type=='backdoor'] #backdoor type attack data\n",
    "print(test_backdoor)"
   ]
  },
  {
   "cell_type": "code",
   "execution_count": null,
   "id": "930a5344",
   "metadata": {},
   "outputs": [],
   "source": [
    "test_backdoor.src_ip.unique() #backdoor attack src unique ips"
   ]
  },
  {
   "cell_type": "code",
   "execution_count": null,
   "id": "b6bd38ca",
   "metadata": {},
   "outputs": [],
   "source": [
    "test_backdoor.dst_ip.unique() #backdoor attack dest unique ips"
   ]
  },
  {
   "cell_type": "markdown",
   "id": "f7d29eda",
   "metadata": {},
   "source": [
    "# ransomware type attack"
   ]
  },
  {
   "cell_type": "code",
   "execution_count": null,
   "id": "e54e70d6",
   "metadata": {},
   "outputs": [],
   "source": [
    "test_ransomware=test[test.type=='ransomware'] #ransomware type attack\n",
    "print(test_ransomware)"
   ]
  },
  {
   "cell_type": "code",
   "execution_count": null,
   "id": "8a6a2bd6",
   "metadata": {},
   "outputs": [],
   "source": [
    "test_ransomware.src_ip.unique() #ransomware attack src unique ips"
   ]
  },
  {
   "cell_type": "code",
   "execution_count": null,
   "id": "4900e5c0",
   "metadata": {},
   "outputs": [],
   "source": [
    "test_ransomware.dst_ip.unique() #ransomware attack dest unique ips"
   ]
  },
  {
   "cell_type": "markdown",
   "id": "29c0f5a6",
   "metadata": {},
   "source": [
    "# xss type attack"
   ]
  },
  {
   "cell_type": "code",
   "execution_count": null,
   "id": "48638ccb",
   "metadata": {},
   "outputs": [],
   "source": [
    "test_xss=test[test.type=='xss'] #xss type attack\n",
    "print(test_xss)"
   ]
  },
  {
   "cell_type": "code",
   "execution_count": null,
   "id": "70f3b8cf",
   "metadata": {},
   "outputs": [],
   "source": [
    "test_xss.src_ip.unique() #xss attack src unique ips"
   ]
  },
  {
   "cell_type": "code",
   "execution_count": null,
   "id": "d1706faa",
   "metadata": {},
   "outputs": [],
   "source": [
    "test_xss.dst_ip.unique() #xss attack dest unique ips"
   ]
  },
  {
   "cell_type": "markdown",
   "id": "c9cd4553",
   "metadata": {},
   "source": [
    "# password type attack"
   ]
  },
  {
   "cell_type": "code",
   "execution_count": null,
   "id": "4e9ea3be",
   "metadata": {},
   "outputs": [],
   "source": [
    "test_password=test[test.type=='password'] #password type attack\n",
    "print(test_password)"
   ]
  },
  {
   "cell_type": "code",
   "execution_count": null,
   "id": "5c7a2dd3",
   "metadata": {},
   "outputs": [],
   "source": [
    "test_password.src_ip.unique() #password attack src unique ips"
   ]
  },
  {
   "cell_type": "code",
   "execution_count": null,
   "id": "439dad16",
   "metadata": {},
   "outputs": [],
   "source": [
    "test_password.dst_ip.unique() #password attack dest unique ips"
   ]
  },
  {
   "cell_type": "markdown",
   "id": "6585cac0",
   "metadata": {},
   "source": [
    "# Normal type [label 0's]"
   ]
  },
  {
   "cell_type": "code",
   "execution_count": null,
   "id": "8e60f601",
   "metadata": {},
   "outputs": [],
   "source": [
    "labels_zero_ip=test[test.type=='normal'] #non attacked IPS"
   ]
  },
  {
   "cell_type": "code",
   "execution_count": null,
   "id": "965334e2",
   "metadata": {},
   "outputs": [],
   "source": [
    "labels_zero_ip.src_ip.unique() # zero label src ips"
   ]
  },
  {
   "cell_type": "code",
   "execution_count": null,
   "id": "5b3c36ee",
   "metadata": {},
   "outputs": [],
   "source": [
    "labels_zero_ip.dst_ip.unique() # zero label dest ips"
   ]
  },
  {
   "cell_type": "markdown",
   "id": "59f0539a",
   "metadata": {},
   "source": [
    "# All attack IP dataset [label 1s]"
   ]
  },
  {
   "cell_type": "code",
   "execution_count": null,
   "id": "7faad82f",
   "metadata": {},
   "outputs": [],
   "source": [
    "labels_one_ip=test[test.type!='normal'] # All attacked src and dest IPS\n",
    "print(labels_one_ip)"
   ]
  },
  {
   "cell_type": "code",
   "execution_count": null,
   "id": "aaa6b702",
   "metadata": {},
   "outputs": [],
   "source": [
    "labels_one_ip.src_ip.unique() # attackers src ip"
   ]
  },
  {
   "cell_type": "code",
   "execution_count": null,
   "id": "a1622981",
   "metadata": {},
   "outputs": [],
   "source": [
    "labels_one_ip.dst_ip.unique() #attacked dest ip"
   ]
  }
 ],
 "metadata": {
  "kernelspec": {
   "display_name": "Python 3 (ipykernel)",
   "language": "python",
   "name": "python3"
  },
  "language_info": {
   "codemirror_mode": {
    "name": "ipython",
    "version": 3
   },
   "file_extension": ".py",
   "mimetype": "text/x-python",
   "name": "python",
   "nbconvert_exporter": "python",
   "pygments_lexer": "ipython3",
   "version": "3.9.13"
  }
 },
 "nbformat": 4,
 "nbformat_minor": 5
}
